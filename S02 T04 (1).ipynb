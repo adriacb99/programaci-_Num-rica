{
 "cells": [
  {
   "cell_type": "markdown",
   "metadata": {},
   "source": [
    "# S02 T04: Pràctica amb programació numèrica"
   ]
  },
  {
   "cell_type": "markdown",
   "metadata": {},
   "source": [
    "### Exercici 1\n",
    "Crea una funció que donat un Array d’una dimensió, et faci un resum estadístic bàsic de les dades. Si detecta que l’array té més d’una dimensió, ha de mostrar un missatge d’error"
   ]
  },
  {
   "cell_type": "code",
   "execution_count": 1,
   "metadata": {},
   "outputs": [
    {
     "name": "stdout",
     "output_type": "stream",
     "text": [
      "Escriu un array de números: 5 6 78 45 3 28 0 12 7 34\n",
      "Suma números del array:  218\n",
      "Numero más pequeño del array:  0\n",
      "Numero más grande del array:  78\n",
      "Media:  21.8\n",
      "Desviación estandar:  23.578804040917767\n"
     ]
    }
   ],
   "source": [
    "import numpy as np\n",
    "def arrayInfo(a):\n",
    "    print(\"Suma números del array: \",a.sum()) \n",
    "    print(\"Numero más pequeño del array: \",a.min())\n",
    "    print(\"Numero más grande del array: \",a.max(axis=0) )\n",
    "    print(\"Media: \",a.mean() )\n",
    "    print(\"Desviación estandar: \",np.std(a) )\n",
    "    \n",
    "x = input(\"Escriu un array de números: \")\n",
    "b = x.split()\n",
    "c = np.array(b)\n",
    "c = np.array(list(map(np.int, c)))\n",
    "arrayInfo(c)"
   ]
  },
  {
   "cell_type": "markdown",
   "metadata": {},
   "source": [
    "### Exercici 2\n",
    "Crea una funció que et generi un quadrat NxN de nombres aleatoris entre el 0 i el 100."
   ]
  },
  {
   "cell_type": "code",
   "execution_count": 2,
   "metadata": {},
   "outputs": [
    {
     "name": "stdout",
     "output_type": "stream",
     "text": [
      "Escribe el tamaño de la matriz: 5\n",
      "[[ 1 98 79 76 31]\n",
      " [49 41 24 63 43]\n",
      " [45 93 34 64 76]\n",
      " [33 76 35 21 71]\n",
      " [74 36  6 97 22]]\n"
     ]
    }
   ],
   "source": [
    "def matrixRandom(k):\n",
    "    random_matrix_array = np.random.randint(0,100,size=(k,k))\n",
    "    return random_matrix_array\n",
    "\n",
    "num = input(\"Escribe el tamaño de la matriz: \")\n",
    "num = int(num)\n",
    "print(matrixRandom(num))\n"
   ]
  },
  {
   "cell_type": "markdown",
   "metadata": {},
   "source": [
    "### Exercici 3\n",
    "Crea una funció que donada una taula de dues dimensions, et calculi els totals per fila i els totals per columna."
   ]
  },
  {
   "cell_type": "code",
   "execution_count": 3,
   "metadata": {},
   "outputs": [
    {
     "name": "stdout",
     "output_type": "stream",
     "text": [
      "Escribe el tamaño de la matriz: 4\n",
      "[[73 10 88 45]\n",
      " [24 29 67 38]\n",
      " [27 44 35 71]\n",
      " [84 67 23 94]]\n",
      "Fila 1: 216\n",
      "Columna 1: 208\n",
      "Fila 2: 158\n",
      "Columna 2: 150\n",
      "Fila 3: 177\n",
      "Columna 3: 213\n",
      "Fila 4: 268\n",
      "Columna 4: 248\n"
     ]
    }
   ],
   "source": [
    "def op(mat):\n",
    "    fila = 0\n",
    "    for i in mat:\n",
    "        sumCol = 0\n",
    "        sumFila = 0\n",
    "        col = 0\n",
    "        for j in i:\n",
    "            sumFila += mat[fila][col] \n",
    "            sumCol += mat[col][fila] \n",
    "            col += 1\n",
    "            \n",
    "        fila += 1\n",
    "        print(\"Fila {}: {}\".format(fila,sumFila)) \n",
    "        print(\"Columna {}: {}\".format(fila,sumCol)) \n",
    "\n",
    "            \n",
    "num = input(\"Escribe el tamaño de la matriz: \")\n",
    "num = int(num)\n",
    "mat = matrixRandom(num)\n",
    "print(mat)\n",
    "op(mat)"
   ]
  },
  {
   "cell_type": "markdown",
   "metadata": {},
   "source": [
    "### Exercici 4\n",
    "Implementa manualment una funció que calculi el coeficient de correlació. Informa’t-en sobre els seus usos i interpretació."
   ]
  },
  {
   "cell_type": "code",
   "execution_count": 4,
   "metadata": {},
   "outputs": [
    {
     "name": "stdout",
     "output_type": "stream",
     "text": [
      "[0 5 3 4 6 2 5 6 3 2 1 0 4 1 4 3 6 8 9 8 1 5 7 3 0 1 1 8 2 9 5 6 4 0 6 0 8\n",
      " 3 1 0 5 6 7 2 4 5 6 3 5 9]\n",
      "[  3.66151333   4.3916454    2.45322717  10.79298957   2.13364346\n",
      "   9.55828874   5.79611547  -4.97910134  -8.86297997  -5.9018881\n",
      "   0.23205621  -6.35985307   7.46906841   4.79338677  -6.56216513\n",
      "   4.40660029   8.35443385   6.59042223  12.26610395  13.8165105\n",
      " -15.00948029   0.75500885  11.24356693   5.37485638  -9.11951193\n",
      " -21.13782754  -0.05798787 -17.60705115  -5.14447591  14.72771391\n",
      "   2.9767303   18.29204486 -15.17325417  -1.40765049   1.60884786\n",
      " -15.68878902  -2.19927466 -12.47294547  -5.10522683   6.47985692\n",
      "  14.17262801   7.46735551  13.76026776  -2.20210299  16.46116563\n",
      "   0.1389355   -1.57300269   2.08257215  25.76654088  26.8854179 ]\n"
     ]
    },
    {
     "data": {
      "text/plain": [
       "array([[1.        , 0.47690333],\n",
       "       [0.47690333, 1.        ]])"
      ]
     },
     "execution_count": 4,
     "metadata": {},
     "output_type": "execute_result"
    }
   ],
   "source": [
    "var1 = np.random.randint(0, 10, 50)\n",
    "var2 = var1 + np.random.normal(0, 10, 50)\n",
    "print(var1)\n",
    "print(var2)\n",
    "np.corrcoef(var1, var2)"
   ]
  },
  {
   "cell_type": "code",
   "execution_count": null,
   "metadata": {},
   "outputs": [],
   "source": []
  }
 ],
 "metadata": {
  "kernelspec": {
   "display_name": "Python 3",
   "language": "python",
   "name": "python3"
  },
  "language_info": {
   "codemirror_mode": {
    "name": "ipython",
    "version": 3
   },
   "file_extension": ".py",
   "mimetype": "text/x-python",
   "name": "python",
   "nbconvert_exporter": "python",
   "pygments_lexer": "ipython3",
   "version": "3.7.6"
  }
 },
 "nbformat": 4,
 "nbformat_minor": 4
}
